{
 "cells": [
  {
   "cell_type": "code",
   "execution_count": 1,
   "metadata": {},
   "outputs": [],
   "source": [
    "import os\n",
    "import shutil\n",
    "from sklearn.model_selection import train_test_split"
   ]
  },
  {
   "cell_type": "code",
   "execution_count": 2,
   "metadata": {},
   "outputs": [],
   "source": [
    "train_dir = './Nutrient/train'\n",
    "val_dir = './Nutrient/val'"
   ]
  },
  {
   "cell_type": "code",
   "execution_count": 3,
   "metadata": {},
   "outputs": [
    {
     "name": "stdout",
     "output_type": "stream",
     "text": [
      "['Healthy', 'Kalium_Deficiency', 'Nitrogen_Deficiency', 'Phosphorus_Deficiency']\n",
      "['Healthy', 'Kalium_Deficiency', 'Nitrogen_Deficiency', 'Phosphorus_Deficiency']\n"
     ]
    }
   ],
   "source": [
    "print(os.listdir(train_dir))\n",
    "print(os.listdir(val_dir))"
   ]
  },
  {
   "cell_type": "code",
   "execution_count": 4,
   "metadata": {},
   "outputs": [
    {
     "name": "stdout",
     "output_type": "stream",
     "text": [
      "Kelas Healthy: 75 gambar dipindahkan ke val.\n",
      "Kelas Kalium_Deficiency: 48 gambar dipindahkan ke val.\n",
      "Kelas Nitrogen_Deficiency: 86 gambar dipindahkan ke val.\n",
      "Kelas Phosphorus_Deficiency: 59 gambar dipindahkan ke val.\n"
     ]
    }
   ],
   "source": [
    "for class_name in os.listdir(train_dir):\n",
    "  class_train_dir = os.path.join(train_dir, class_name)\n",
    "  class_val_dir = os.path.join(val_dir, class_name)\n",
    "  \n",
    "  images = os.listdir(class_train_dir)\n",
    "  \n",
    "  images =  [img for img in images if img.endswith(('.jpg', '.png', '.jpeg'))]\n",
    "  train_imgs, val_imgs = train_test_split(images, test_size=.2, random_state=42)\n",
    "\n",
    "  # Pindahkan gambar ke folder val\n",
    "  for img in val_imgs:\n",
    "        src = os.path.join(class_train_dir, img)\n",
    "        dst = os.path.join(class_val_dir, img)\n",
    "        shutil.move(src, dst)\n",
    "\n",
    "  print(f\"Kelas {class_name}: {len(val_imgs)} gambar dipindahkan ke val.\")\n"
   ]
  },
  {
   "cell_type": "code",
   "execution_count": null,
   "metadata": {},
   "outputs": [],
   "source": []
  },
  {
   "cell_type": "code",
   "execution_count": null,
   "metadata": {},
   "outputs": [],
   "source": []
  }
 ],
 "metadata": {
  "kernelspec": {
   "display_name": "Python 3",
   "language": "python",
   "name": "python3"
  },
  "language_info": {
   "codemirror_mode": {
    "name": "ipython",
    "version": 3
   },
   "file_extension": ".py",
   "mimetype": "text/x-python",
   "name": "python",
   "nbconvert_exporter": "python",
   "pygments_lexer": "ipython3",
   "version": "3.11.2"
  }
 },
 "nbformat": 4,
 "nbformat_minor": 2
}
